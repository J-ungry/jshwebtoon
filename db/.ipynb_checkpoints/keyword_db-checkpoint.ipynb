{
 "cells": [
  {
   "cell_type": "code",
   "execution_count": null,
   "id": "ac17ce77",
   "metadata": {},
   "outputs": [],
   "source": [
    "import pymysql\n",
    "import pandas as pd\n",
    "\n",
    "db = pymysql.connect(host=\"localhost\", port=3306, user='root', passwd='mysql', db='jsh', charset='utf8')\n",
    "\n",
    "cursor = db.cursor()\n",
    "\n",
    "\n",
    "df = pd.read_csv(\"../data/csv/after_pre/webtoon_keywords_nullCheck_type.csv\",index_col=0,encoding=\"utf8\")"
   ]
  }
 ],
 "metadata": {
  "kernelspec": {
   "display_name": "Python 3 (ipykernel)",
   "language": "python",
   "name": "python3"
  },
  "language_info": {
   "codemirror_mode": {
    "name": "ipython",
    "version": 3
   },
   "file_extension": ".py",
   "mimetype": "text/x-python",
   "name": "python",
   "nbconvert_exporter": "python",
   "pygments_lexer": "ipython3",
   "version": "3.9.13"
  }
 },
 "nbformat": 4,
 "nbformat_minor": 5
}
