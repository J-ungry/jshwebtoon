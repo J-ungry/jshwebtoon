{
 "cells": [
  {
   "cell_type": "code",
   "execution_count": 1,
   "id": "6a7e5f5f",
   "metadata": {},
   "outputs": [],
   "source": [
    "import pymysql\n",
    "import pandas as pd"
   ]
  },
  {
   "cell_type": "code",
   "execution_count": 2,
   "id": "61bc2733",
   "metadata": {},
   "outputs": [],
   "source": [
    "db = pymysql.connect(host=\"localhost\", port=3306, user='root', passwd='duffufK123!', db='jsh', charset='utf8')"
   ]
  },
  {
   "cell_type": "code",
   "execution_count": 3,
   "id": "79277826",
   "metadata": {},
   "outputs": [],
   "source": [
    "cursor = db.cursor()"
   ]
  },
  {
   "cell_type": "code",
   "execution_count": 4,
   "id": "2843d2c1",
   "metadata": {},
   "outputs": [],
   "source": [
    "#이미지 insert"
   ]
  },
  {
   "cell_type": "code",
   "execution_count": 5,
   "id": "43bec2fe",
   "metadata": {},
   "outputs": [],
   "source": [
    "for x in range(1,2045):\n",
    "    with open(\"../db/thumbs/\"+ str(x) +\".jpg\", 'rb') as image_file:\n",
    "        bin_img = image_file.read()\n",
    "\n",
    "    sql = 'insert into thumb (webtoon_no, img) values (' + str(x) + ', %s)'\n",
    "    cursor.execute(sql,(bin_img))"
   ]
  },
  {
   "cell_type": "code",
   "execution_count": 6,
   "id": "aab904e9",
   "metadata": {},
   "outputs": [],
   "source": [
    "db.commit()"
   ]
  },
  {
   "cell_type": "code",
   "execution_count": 11,
   "id": "67d20c17",
   "metadata": {},
   "outputs": [],
   "source": [
    "db.close()"
   ]
  },
  {
   "cell_type": "code",
   "execution_count": null,
   "id": "9e998c8b",
   "metadata": {},
   "outputs": [],
   "source": []
  }
 ],
 "metadata": {
  "kernelspec": {
   "display_name": "Python 3 (ipykernel)",
   "language": "python",
   "name": "python3"
  },
  "language_info": {
   "codemirror_mode": {
    "name": "ipython",
    "version": 3
   },
   "file_extension": ".py",
   "mimetype": "text/x-python",
   "name": "python",
   "nbconvert_exporter": "python",
   "pygments_lexer": "ipython3",
   "version": "3.9.13"
  }
 },
 "nbformat": 4,
 "nbformat_minor": 5
}
